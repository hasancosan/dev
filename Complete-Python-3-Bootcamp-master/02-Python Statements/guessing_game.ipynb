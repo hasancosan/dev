{
 "cells": [
  {
   "cell_type": "code",
   "execution_count": 8,
   "metadata": {},
   "outputs": [
    {
     "name": "stdout",
     "output_type": "stream",
     "text": [
      "secret number: 77\n",
      "make your guess:\t89\n",
      "COLD!\n",
      "make your guess:\t88\n",
      "WARMER !\n",
      "make your guess:\t50\n",
      "COLDER !\n",
      "make your guess:\t66\n",
      "WARMER !\n",
      "make your guess:\t65\n",
      "COLDER !\n",
      "make your guess:\t36\n",
      "COLDER !\n",
      "make your guess:\t79\n",
      "WARMER !\n",
      "make your guess:\t77\n",
      "!!! CONGRATUALITIONS !!! YOU FIND IT AFTER 8 ATTEMPS\n"
     ]
    }
   ],
   "source": [
    "from random import randint\n",
    "numGuess = randint(1,100)\n",
    "\n",
    "print(f'secret number: {numGuess}')\n",
    "\n",
    "tempNum = 0\n",
    "inpNum = 0\n",
    "counter = 0\n",
    "\n",
    "while True:\n",
    "    inpStr = input('make your guess:\\t')\n",
    "    \n",
    "    if(inpStr.lower() == \"q\"):\n",
    "        break\n",
    "    \n",
    "    try:\n",
    "        inpNum = int(inpStr)\n",
    "    except ValueError:\n",
    "        print(f'input must be an integer. your input: {inpStr}')\n",
    "        continue\n",
    "\n",
    "    if inpNum < 1 or inpNum > 100:\n",
    "        print('OUT OF BOUNDS')\n",
    "    else:\n",
    "        counter += 1\n",
    "        \n",
    "        if(inpNum == numGuess):\n",
    "            print(f'!!! CONGRATUALITIONS !!! YOU FIND IT AFTER {counter} ATTEMPS')\n",
    "            break\n",
    "        if counter == 1:\n",
    "            if ((inpNum < (numGuess + 10)) and (inpNum > (numGuess - 10))):\n",
    "                print('WARM!')\n",
    "            else:\n",
    "                print('COLD!')\n",
    "        else:\n",
    "            if abs(numGuess - inpNum) <= abs(numGuess - tempNum):\n",
    "                print('WARMER !')\n",
    "            else:\n",
    "                print('COLDER !')\n",
    "        \n",
    "        tempNum = inpNum"
   ]
  },
  {
   "cell_type": "code",
   "execution_count": 11,
   "metadata": {},
   "outputs": [
    {
     "name": "stdout",
     "output_type": "stream",
     "text": [
      "integer23213\n"
     ]
    }
   ],
   "source": [
    "i = input('integer')\n",
    "try:\n",
    "    j = int(i)\n",
    "except ValueError:\n",
    "    print(f'Not an integer: {i}')"
   ]
  },
  {
   "cell_type": "code",
   "execution_count": null,
   "metadata": {},
   "outputs": [],
   "source": []
  }
 ],
 "metadata": {
  "kernelspec": {
   "display_name": "Python 3",
   "language": "python",
   "name": "python3"
  },
  "language_info": {
   "codemirror_mode": {
    "name": "ipython",
    "version": 3
   },
   "file_extension": ".py",
   "mimetype": "text/x-python",
   "name": "python",
   "nbconvert_exporter": "python",
   "pygments_lexer": "ipython3",
   "version": "3.7.1"
  }
 },
 "nbformat": 4,
 "nbformat_minor": 2
}
